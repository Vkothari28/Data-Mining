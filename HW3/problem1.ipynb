{
 "cells": [
  {
   "cell_type": "code",
   "execution_count": null,
   "metadata": {},
   "outputs": [],
   "source": [
    "import re\n",
    "import pandas as pd\n",
    "# Note: please don't import any new package. You should solve this problem using only the package(s) above.\n",
    "#-------------------------------------------------------------------------"
   ]
  },
  {
   "cell_type": "markdown",
   "metadata": {},
   "source": [
    "\n",
    "<br>\n",
    "    Problem 1: Ranking Webpages using Counts of Keywords (15 points)<br>\n",
    "    In this problem, we will implement a webpage ranking algorithm: We will use the frequency of keywords in the webpages to determine the ranking. We will use this method on a small dataset of 8 webpages and create a demo to show the result of the search engine. <br>\n",
    " ------------------------------------------------------ <br>\n",
    "      Search Engine (Version 1): Rank by Word Frequency <br>\n",
    " ------------------------------------------------------ <br>\n",
    " In this version of the search engine, the webpages with the most occurrence of the searched keyword will appear on the top of the result<br>\n",
    "    A list of all variables being used in this problem is provided at the end of this file.<br>\n"
   ]
  },
  {
   "cell_type": "markdown",
   "metadata": {},
   "source": [
    "-------------------------"
   ]
  },
  {
   "cell_type": "code",
   "execution_count": 1,
   "metadata": {},
   "outputs": [],
   "source": [
    "def Terms_and_Conditions():\n",
    "    ''' \n",
    "        By submitting this homework or changing this function, you agree with the following terms:\n",
    "       (1) Not sharing your code/solution with any student before and after the homework due. For example, sending your code segment to another student, putting your solution online or lending your laptop (if your laptop contains your solution or your Dropbox automatically copied your solution from your desktop computer and your laptop) to another student to work on this homework will violate this term.\n",
    "       (2) Not using anyone's code in this homework and building your own solution. For example, using some code segments from another student or online resources due to any reason (like too busy recently) will violate this term. Changing other's code as your solution (such as changing the variable names) will also violate this term.\n",
    "       (3) When discussing with any other students about this homework, only discuss high-level ideas or use pseudo-code. Don't discuss about the solution at the code level. For example, two students discuss about the solution of a function (which needs 5 lines of code to solve) and they then work on the solution \"independently\", however the code of the two solutions are exactly the same, or only with minor differences (variable names are different). In this case, the two students violate this term.\n",
    "      All violations of (1),(2) or (3) will be handled in accordance with the WPI Academic Honesty Policy.  For more details, please visit: https://www.wpi.edu/about/policies/academic-integrity/dishonesty\n",
    "      Note: we may use the Stanford Moss system to check your code for code similarity. https://theory.stanford.edu/~aiken/moss/\n",
    "      Historical Data: in one year, we ended up finding 25% of the students in that class violating this term in their homework submissions and we handled ALL of these violations according to the WPI Academic Honesty Policy. \n",
    "    '''\n",
    "    #*******************************************\n",
    "    # CHANGE HERE: if you have read and agree with the term above, change \"False\" to \"True\".\n",
    "    Read_and_Agree = True\n",
    "    #*******************************************\n",
    "    return Read_and_Agree"
   ]
  },
  {
   "cell_type": "markdown",
   "metadata": {},
   "source": [
    "---------------------------------------------------"
   ]
  },
  {
   "cell_type": "markdown",
   "metadata": {},
   "source": [
    "\n",
    "<br>\n",
    "    (Load Webpage Data) Given a file name of a CSV file containing all the webpages, load the CSV file into a pandas dataframe. Each row contains information from a webpage. The data frame has 4 columns: ID, URL, Title and Description. <br>\n",
    "    ---- Inputs: --------<br>\n",
    "        * filename: a string, indicating the path and name of a CSV file, which contains the webpage data.<br>\n",
    "    ---- Outputs: --------<br>\n",
    "        * X: a dataframe of all the webpages, where each row represents a webpage.<br>\n",
    "    ---- Hints: --------<br>\n",
    "        * This problem can be solved using 1 line(s) of code.<br>\n",
    "<br>\n",
    "--------------------"
   ]
  },
  {
   "cell_type": "code",
   "execution_count": null,
   "metadata": {},
   "outputs": [],
   "source": [
    "def load_webpages(filename):\n",
    "    #########################################\n",
    "    ## INSERT YOUR CODE HERE (5 points)\n",
    "    X=pd.read_csv(filename)\n",
    "    #########################################\n",
    "    return X\n",
    "    #-----------------\n",
    "    '''  \n",
    "        TEST: Now you can test the correctness of your code above by typing the following in the terminal:\n",
    "        ---------------------------------------------------\n",
    "        python3 -m nose -v test1.py:test_load_webpages\n",
    "\tOR \n",
    "        nosetests -v test1.py:test_load_webpages\n",
    "        ---------------------------------------------------\n",
    "    '''\n",
    "    \n",
    "    "
   ]
  },
  {
   "cell_type": "markdown",
   "metadata": {},
   "source": [
    "---------------------------------------------------"
   ]
  },
  {
   "cell_type": "markdown",
   "metadata": {},
   "source": [
    "\n",
    "<br>\n",
    "    (Count Word Frequency) Given the dataframe X, compute the frequency of the keywords in each webpage's 'Description' and add a column (called 'Count') to the dataframe X to store the frequencies of the searched keyword. <br>\n",
    "\t For example, if the searched keyword is 'thanksgiving', and we have the following webpages: <br>\n",
    "\t Webpage 0: Thanksgiving is coming <br>\n",
    "\t Webpage 1: This is my thanksgiving recipe for my thanksgiving dinner <br>\n",
    "\t Webpage 2: Hello world <br>\n",
    "\t Then the result dataframe X should be as follows: <br>\n",
    "\t    ID  | URL | ...| Count <br>\n",
    "\t  ----------------------- <br>\n",
    "\t    0   | ... | ...| 1 <br>\n",
    "\t    1   | ... | ...| 2 <br>\n",
    "\t    2   | ... | ...| 0 <br>\n",
    "\t  ----------------------- <br>\n",
    "\t Note, the keyword matching is not case-sensitive. So we assume that all words in the webpages should be converted to lower cases before being matched with the keyword. For example, in webpage 0, the 'Thanksgiving' should be first converted to lower cases 'thanksgiving', then it will match with the keyword 'thanksgiving' and being counted. <br>\n",
    "    ---- Inputs: --------<br>\n",
    "        * X: a dataframe of all the webpages, where each row represents a webpage.<br>\n",
    "        * keyword: the searched keyword, a string, here we assume the string contains only one word that is being searched.<br>\n",
    "    ---- Outputs: --------<br>\n",
    "        * X: a dataframe of all the webpages, where each row represents a webpage.<br>\n",
    "    ---- Hints: --------<br>\n",
    "        * In a pandas Series x (which is a column of a dataframe X), you could find various functions for x.str to process string values, for example if a function is named f(), you could call the function by x.str.f(). <br>\n",
    "        * To ignore the cases in word count, you could use a flag value in the \"re\" package as the parameter for the above f() function. Here \"re\" is designed for regular expression. <br>\n",
    "        * This problem can be solved using 1 line(s) of code.<br>\n",
    "<br>\n",
    "--------------------"
   ]
  },
  {
   "cell_type": "code",
   "execution_count": null,
   "metadata": {},
   "outputs": [],
   "source": [
    "def count_word_frequency(X, keyword):\n",
    "    #########################################\n",
    "    ## INSERT YOUR CODE HERE (5 points)\n",
    "   ## X['Count'] = X['Description'].str.lower().str.count(keyword)\n",
    "    X.insert(0, 'Count', X['Description'].str.lower().str.count(keyword))\n",
    "    #########################################\n",
    "    return X\n",
    "    #-----------------\n",
    "    '''  \n",
    "        TEST: Now you can test the correctness of your code above by typing the following in the terminal:\n",
    "        ---------------------------------------------------\n",
    "        python3 -m nose -v test1.py:test_count_word_frequency\n",
    "\tOR \n",
    "        nosetests -v test1.py:test_count_word_frequency\n",
    "        ---------------------------------------------------\n",
    "    '''\n",
    "    \n",
    "    ''' \n",
    "    If you have passed the above test, the result data should have been saved into a file, named \"data_X1.csv\". You could take a look at this file for the result.\n",
    "    \n",
    "    '''\n",
    "    "
   ]
  },
  {
   "cell_type": "markdown",
   "metadata": {},
   "source": [
    "---------------------------------------------------"
   ]
  },
  {
   "cell_type": "markdown",
   "metadata": {},
   "source": [
    "\n",
    "<br>\n",
    "    (Rank Webpages by Word Frequency) Given the dataframe (X1), rank all the webpages by descending order of Keyword frequency (Count). <br>\n",
    "    ---- Inputs: --------<br>\n",
    "        * X1: a dataframe of all the webpages containing the column of word frequency, where each row represents a webpage.<br>\n",
    "    ---- Outputs: --------<br>\n",
    "        * R1: a dataframe of all the webpages, where the webpages are sorted according to descending order of word frequency.<br>\n",
    "    ---- Hints: --------<br>\n",
    "        * This problem can be solved using 1 line(s) of code.<br>\n",
    "<br>\n",
    "--------------------"
   ]
  },
  {
   "cell_type": "code",
   "execution_count": null,
   "metadata": {},
   "outputs": [],
   "source": [
    "def rank_word_frequency(X1):\n",
    "    #########################################\n",
    "    ## INSERT YOUR CODE HERE (5 points)\n",
    "    X1 = X1.sort_values(['Count'], inplace=False, ascending=False)\n",
    "    #########################################\n",
    "    return X1\n",
    "    #-----------------\n",
    "    '''  \n",
    "        TEST: Now you can test the correctness of your code above by typing the following in the terminal:\n",
    "        ---------------------------------------------------\n",
    "        python3 -m nose -v test1.py:test_rank_word_frequency\n",
    "\tOR \n",
    "        nosetests -v test1.py:test_rank_word_frequency\n",
    "        ---------------------------------------------------\n",
    "    '''\n",
    "    \n",
    "    ''' \n",
    "    If you have passed the above test, the result data should have been saved into a file, named \"data_R1.csv\". You could take a look at this file for the ranking result.\n",
    "    (Demo) Now you can check out the search engine that you have built by typing the following in the terminal: python3 demo1.py\n",
    "    Then open the browser and view the URL showed in the terminal, for example: http://127.0.0.1:5000/\n",
    "    \n",
    "    '''\n",
    "    "
   ]
  },
  {
   "cell_type": "markdown",
   "metadata": {},
   "source": [
    "-------------------------------------------"
   ]
  },
  {
   "cell_type": "markdown",
   "metadata": {},
   "source": [
    "\n",
    " <br>\n",
    "    TEST problem 1: <br>\n",
    "        Now you can test the correctness of all the above functions by typing the following in the terminal:<br>\n",
    "        ---------------------------------------------------<br>\n",
    "        python3 -m nose -v test1.py<br>\n",
    "\tOR <br>\n",
    "        nosetests -v test1.py<br>\n",
    "        ---------------------------------------------------<br>\n",
    "        If your code passed all the tests, you will see the following message in the terminal:<br>\n",
    "        ----------- Problem 1 (15 points in total)--------------------- ... ok<br>\n",
    "        * (5 points) load_webpages ... ok<br>\n",
    "        * (5 points) count_word_frequency ... ok<br>\n",
    "        * (5 points) rank_word_frequency ... ok<br>\n",
    "        ----------------------------------------------------------------------<br>\n",
    "        Ran 3 tests in 0.006s<br>\n",
    "        OK<br>\n"
   ]
  },
  {
   "cell_type": "markdown",
   "metadata": {},
   "source": [
    "-------------------------------------------"
   ]
  },
  {
   "cell_type": "markdown",
   "metadata": {},
   "source": [
    "-------------------------------------------"
   ]
  },
  {
   "cell_type": "markdown",
   "metadata": {},
   "source": [
    "\n",
    "<br>\n",
    "    List of All Variables <br>\n",
    "* filename:  a string, indicating the path and name of a CSV file, which contains the webpage data. <br>\n",
    "* X:  a dataframe of all the webpages, where each row represents a webpage. <br>\n",
    "* keyword:  the searched keyword, a string, here we assume the string contains only one word that is being searched. <br>\n",
    "* X1:  a dataframe of all the webpages containing the column of word frequency, where each row represents a webpage. <br>\n",
    "* R1:  a dataframe of all the webpages, where the webpages are sorted according to descending order of word frequency. <br>\n",
    "<br>\n",
    "-------------------------------------------"
   ]
  }
 ],
 "metadata": {
  "kernelspec": {
   "display_name": "Python 3",
   "language": "python",
   "name": "python3"
  },
  "language_info": {
   "codemirror_mode": {
    "name": "ipython",
    "version": 3
   },
   "file_extension": ".py",
   "mimetype": "text/x-python",
   "name": "python",
   "nbconvert_exporter": "python",
   "pygments_lexer": "ipython3",
   "version": "3.7.6"
  }
 },
 "nbformat": 4,
 "nbformat_minor": 2
}
